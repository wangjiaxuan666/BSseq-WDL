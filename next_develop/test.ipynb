{
 "cells": [
  {
   "cell_type": "code",
   "execution_count": 1,
   "metadata": {},
   "outputs": [],
   "source": [
    "import os\n",
    "import subprocess\n",
    "import tempfile\n",
    "import logging\n",
    "\n",
    "import sys\n",
    "import argparse\n",
    "import json"
   ]
  },
  {
   "cell_type": "code",
   "execution_count": 4,
   "metadata": {},
   "outputs": [],
   "source": [
    "def is_in_path(path):\n",
    "    try:\n",
    "        if (\n",
    "            subprocess.run(\n",
    "                [\"which\", path], stdout=subprocess.PIPE, stderr=subprocess.STDOUT\n",
    "            ).returncode != 0\n",
    "        ):\n",
    "            return False\n",
    "    except:\n",
    "        return False\n",
    "    return True\n",
    "\n",
    "if not is_in_path(\"samtools\"):\n",
    "    print(\"please install samtools and export to env path\")"
   ]
  }
 ],
 "metadata": {
  "interpreter": {
   "hash": "16ae14c993a9fdc5d028325da3b0634c64594cc67b0df42e0d37806ee856bcad"
  },
  "kernelspec": {
   "display_name": "Python 3.8.12 64-bit ('base': conda)",
   "language": "python",
   "name": "python3"
  },
  "language_info": {
   "codemirror_mode": {
    "name": "ipython",
    "version": 3
   },
   "file_extension": ".py",
   "mimetype": "text/x-python",
   "name": "python",
   "nbconvert_exporter": "python",
   "pygments_lexer": "ipython3",
   "version": "3.8.12"
  },
  "orig_nbformat": 4
 },
 "nbformat": 4,
 "nbformat_minor": 2
}
